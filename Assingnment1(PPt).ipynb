{
 "cells": [
  {
   "cell_type": "markdown",
   "id": "24a9ef03-8001-40bd-ab71-7d598555183d",
   "metadata": {},
   "source": [
    "# <aside>\n",
    "💡 **Q1.** Given an array of integers nums and an integer target, return indices of the two numbers such that they add up to target.\n",
    "\n",
    "You may assume that each input would have exactly one solution, and you may not use the same element twice.\n",
    "\n",
    "You can return the answer in any order.\n",
    "\n",
    "**Example:**\n",
    "Input: nums = [2,7,11,15], target = 9\n",
    "Output0 [0,1]\n",
    "\n",
    "**Explanation:** Because nums[0] + nums[1] == 9, we return [0, 1][\n",
    "\n",
    "</aside>"
   ]
  },
  {
   "cell_type": "code",
   "execution_count": 2,
   "id": "8d955ebe-76b7-4885-9add-4550fc32009f",
   "metadata": {},
   "outputs": [
    {
     "data": {
      "text/plain": [
       "[0, 3]"
      ]
     },
     "execution_count": 2,
     "metadata": {},
     "output_type": "execute_result"
    }
   ],
   "source": [
    "\n",
    "def fuc(nums,target) :\n",
    "    for i in range(len(nums)):\n",
    "        for j in range(len(nums)):\n",
    "            if nums[i]+nums[j] == target:\n",
    "                return [nums.index(nums[i]), nums.index(nums[j])]\n",
    "            else:\n",
    "                continue        \n",
    "                     \n",
    "fuc([2,7,11,15], 17)           \n",
    "        \n",
    "    "
   ]
  },
  {
   "cell_type": "markdown",
   "id": "b1a2c9b7-9a81-4af3-8f8b-fc360bba8090",
   "metadata": {},
   "source": [
    " <aside>\n",
    "💡 **Q2.** Given an integer array nums and an integer val, remove all occurrences of val in nums in-place. The order of the elements may be changed. Then return the number of elements in nums which are not equal to val.\n",
    "\n",
    "Consider the number of elements in nums which are not equal to val be k, to get accepted, you need to do the following things:\n",
    "\n",
    "- Change the array nums such that the first k elements of nums contain the elements which are not equal to val. The remaining elements of nums are not important as well as the size of nums.\n",
    "- Return k.\n",
    "\n",
    "**Example :**\n",
    "Input: nums = [3,2,2,3], val = 3\n",
    "Output: 2, nums = [2,2,_*,_*]\n",
    "\n",
    "**Explanation:** Your function should return k = 2, with the first two elements of nums being 2. It does not matter what you leave beyond the returned k (hence they are underscore\n",
    "\n",
    "</aside>"
   ]
  },
  {
   "cell_type": "code",
   "execution_count": 5,
   "id": "59b210cb-e548-4c7f-b77e-da0580494562",
   "metadata": {},
   "outputs": [],
   "source": [
    "def function2(self, nums:list[int], val:int) -> int:\n",
    "    i = 0\n",
    "    while i < lens(nums):\n",
    "        if nums[i]==val:\n",
    "            num.pop(i)\n",
    "            i-=1\n",
    "        i+=1\n",
    "    return len(nums)\n"
   ]
  },
  {
   "cell_type": "markdown",
   "id": "d65f8651-f347-479c-bbfc-a33f5f05cf00",
   "metadata": {},
   "source": [
    "<aside>\n",
    "💡 **Q3.** Given a sorted array of distinct integers and a target value, return the index if the target is found. If not, return the index where it would be if it were inserted in order.\n",
    "\n",
    "You must write an algorithm with O(log n) runtime complexity.\n",
    "\n",
    "**Example 1:**\n",
    "Input: nums = [1,3,5,6], target = 5\n",
    "\n",
    "Output: 2\n",
    "\n",
    "</aside>"
   ]
  },
  {
   "cell_type": "code",
   "execution_count": 3,
   "id": "d6e6ee78-37bb-4eea-bb3f-c6cd0eb5c211",
   "metadata": {},
   "outputs": [
    {
     "name": "stdout",
     "output_type": "stream",
     "text": [
      "2\n"
     ]
    }
   ],
   "source": [
    "def index_of_sort(arr:list,target:int)->int:\n",
    "        arr = arr.sort()\n",
    "        \n",
    "    \n",
    "        for i in range(0,len(arr)):\n",
    "            if arr[i] == target:\n",
    "                return i\n",
    "            elif arr[i]<target:\n",
    "                return i+1\n",
    "            else: \n",
    "                return i-1\n",
    "       \n",
    "def searchInsert(nums, target):\n",
    "    left_side = 0\n",
    "    right_side = len(nums) - 1\n",
    "\n",
    "    while left_side <= right_side:\n",
    "        mid = int((left_side + right_side) / 2)\n",
    "\n",
    "        if nums[mid] == target:\n",
    "            return mid\n",
    "        elif nums[mid] < target:\n",
    "            left_side = mid + 1\n",
    "        else:\n",
    "            right_side = mid - 1\n",
    "\n",
    "    return left_side\n",
    "       \n",
    "nums = [1,3,5,6]\n",
    "target = 4\n",
    "a = searchInsert(nums,target)   \n",
    "print(a)"
   ]
  },
  {
   "cell_type": "markdown",
   "id": "e43ea20f-5c1e-4476-99c6-4e510ebb3d49",
   "metadata": {},
   "source": [
    "Q4. You are given a large integer represented as an integer array digits, where each digits[i] is the ith digit of the integer. The digits are ordered from most significant to least significant in left-to-right order. The large integer does not contain any leading 0's.\n",
    "Increment the large integer by one and return the resulting array of digits.\n",
    "Example 1:\n",
    "Input: digits = [1,2,3]\n",
    "Output: [1,2,4]\n",
    "Explanation: The array represents the integer 123.\n",
    "Incrementing by one gives 123 + 1 = 124.\n",
    "Thus, the result should be [1,2,4].\n",
    "    "
   ]
  },
  {
   "cell_type": "code",
   "execution_count": 4,
   "id": "c4f69a0d-e35c-4b34-a01d-6fbbca35fd2d",
   "metadata": {},
   "outputs": [
    {
     "name": "stdout",
     "output_type": "stream",
     "text": [
      "['1', '2', '4']\n"
     ]
    }
   ],
   "source": [
    "def Q4(arr:list)->str:\n",
    "    ans = 0\n",
    " \n",
    "    for i in range(0,3):\n",
    "        if i==0:\n",
    "            ans = ans + arr[i]*100\n",
    "        elif i==1:\n",
    "            ans = ans + arr[i]*10\n",
    "        elif i==2:\n",
    "            ans = ans + arr[i]*1\n",
    "    return str(ans+1)\n",
    "\n",
    "a = Q4([1,2,3])\n",
    "print(list(a))\n",
    "# a = [1,2,3]\n",
    "# print(a.index(3))"
   ]
  },
  {
   "cell_type": "markdown",
   "id": "1a222803-6233-4a6a-a962-d4472ad6b5b6",
   "metadata": {},
   "source": [
    "<aside>\n",
    "💡 **Q5.** You are given two integer arrays nums1 and nums2, sorted in non-decreasing order, and two integers m and n, representing the number of elements in nums1 and nums2 respectively.\n",
    "\n",
    "Merge nums1 and nums2 into a single array sorted in non-decreasing order.\n",
    "\n",
    "The final sorted array should not be returned by the function, but instead be stored inside the array nums1. To accommodate this, nums1 has a length of m + n, where the first m elements denote the elements that should be merged, and the last n elements are set to 0 and should be ignored. nums2 has a length of n.\n",
    "\n",
    "**Example 1:**\n",
    "Input: nums1 = [1,2,3,0,0,0], m = 3, nums2 = [2,5,6], n = 3\n",
    "Output: [1,2,2,3,5,6]\n",
    "\n",
    "**Explanation:** The arrays we are merging are [1,2,3] and [2,5,6].\n",
    "The result of the merge is [1,2,2,3,5,6] with the underlined elements coming from nums1.\n",
    "\n",
    "</aside>"
   ]
  },
  {
   "cell_type": "code",
   "execution_count": 5,
   "id": "757b04b9-7798-48c7-a330-9111552e9224",
   "metadata": {},
   "outputs": [
    {
     "name": "stdout",
     "output_type": "stream",
     "text": [
      "[1, 2, 2, 3, 5, 6]\n"
     ]
    }
   ],
   "source": [
    "def merge_to_list(arr:list,arr1:list,m_size:int,n_size:int)->list:\n",
    "        arr = arr+arr1\n",
    "        arr = sorted(arr)\n",
    "        print(arr)\n",
    "\n",
    "nums1 = [1,2,3]\n",
    "\n",
    "m = 3 \n",
    "nums2 = [2,5,6] \n",
    "n = 3\n",
    "merge_to_list(nums1,nums2,m,n)"
   ]
  },
  {
   "cell_type": "markdown",
   "id": "36f0765d-4023-4f26-961d-f7461f667595",
   "metadata": {},
   "source": [
    "<aside>\n",
    "💡 **Q6.** Given an integer array nums, return true if any value appears at least twice in the array, and return false if every element is distinct.\n",
    "\n",
    "**Example 1:**\n",
    "Input: nums = [1,2,3,1]\n",
    "\n",
    "Output: true\n",
    "\n",
    "</aside>"
   ]
  },
  {
   "cell_type": "code",
   "execution_count": 6,
   "id": "700be9d2-205b-4d3c-9b6c-3814390d3b08",
   "metadata": {},
   "outputs": [],
   "source": [
    "class Solution:\n",
    "        def containsDuplicate(self, nums: list[int]) -> bool:  \n",
    "            hash_Set = set()\n",
    "            for i in nums:\n",
    "                if i in hash_Set:\n",
    "                    return True\n",
    "                else:\n",
    "                    hash_Set.add(i)"
   ]
  },
  {
   "cell_type": "markdown",
   "id": "7e856bcf-20e0-4d4f-a2aa-ae32a472cb36",
   "metadata": {},
   "source": [
    "<aside>\n",
    "💡 **Q7.** Given an integer array nums, move all 0's to the end of it while maintaining the relative order of the nonzero elements.\n",
    "\n",
    "Note that you must do this in-place without making a copy of the array.\n",
    "\n",
    "**Example 1:**\n",
    "Input: nums = [0,1,0,3,12]\n",
    "Output: [1,3,12,0,0]\n",
    "\n",
    "</aside>"
   ]
  },
  {
   "cell_type": "code",
   "execution_count": 7,
   "id": "df97fdb8-e495-4a0e-9173-1b32289931e9",
   "metadata": {},
   "outputs": [],
   "source": [
    "class Solution:\n",
    "    def moveZeroes(self, nums: list[int]) -> None:\n",
    "        \"\"\"\n",
    "        Do not return anything, modify nums in-place instead.\n",
    "        \"\"\"\n",
    "        i = 0\n",
    "        for j in range(0,len(nums)):\n",
    "            if(nums[j]==0):\n",
    "                pass\n",
    "            elif(nums[j]!=0):\n",
    "                nums[j],nums[i] = nums[i],nums[j]\n",
    "                i+=1"
   ]
  },
  {
   "cell_type": "markdown",
   "id": "590696a8-baa4-430d-b061-7864a20c2e42",
   "metadata": {},
   "source": [
    "<aside>\n",
    "💡 **Q8.** You have a set of integers s, which originally contains all the numbers from 1 to n. Unfortunately, due to some error, one of the numbers in s got duplicated to another number in the set, which results in repetition of one number and loss of another number.\n",
    "\n",
    "You are given an integer array nums representing the data status of this set after the error.\n",
    "\n",
    "Find the number that occurs twice and the number that is missing and return them in the form of an array.\n",
    "\n",
    "**Example 1:**\n",
    "Input: nums = [1,2,2,4]\n",
    "Output: [2,3]\n",
    "\n",
    "</aside>"
   ]
  },
  {
   "cell_type": "code",
   "execution_count": 8,
   "id": "f21b8f96-d924-4b00-b644-43484796b5d1",
   "metadata": {},
   "outputs": [
    {
     "name": "stdout",
     "output_type": "stream",
     "text": [
      "[2, 3]\n"
     ]
    }
   ],
   "source": [
    "from collections import Counter\n",
    "class Solution:\n",
    "    def findErrorNums(self, nums: list[int]) -> list[int]:\n",
    "        c = Counter(nums)\n",
    "        # print(type(c))\n",
    "        l=[0,0]\n",
    "        for i in range(1,len(nums)+1):\n",
    "            if c[i]==2:\n",
    "                l[0]=i\n",
    "            if c[i]==0:\n",
    "                l[1]=i\n",
    "        return l\n",
    "#c stores {2:2,1:1,4:1}\n",
    "'''\n",
    "l = [0,0]\n",
    "c[1]==2\n",
    "l[0] = 2\n",
    "'''\n",
    "a = Solution()\n",
    "nums = [1,2,2,4]\n",
    "c = a.findErrorNums(nums)\n",
    "print(c)"
   ]
  },
  {
   "cell_type": "code",
   "execution_count": null,
   "id": "dfd4320f-0af2-4e3f-84a2-4e3f8f9bd57d",
   "metadata": {},
   "outputs": [],
   "source": []
  },
  {
   "cell_type": "code",
   "execution_count": null,
   "id": "fe2aef8a-384c-48e1-ad89-2d11532350e4",
   "metadata": {},
   "outputs": [],
   "source": []
  }
 ],
 "metadata": {
  "kernelspec": {
   "display_name": "Python 3 (ipykernel)",
   "language": "python",
   "name": "python3"
  },
  "language_info": {
   "codemirror_mode": {
    "name": "ipython",
    "version": 3
   },
   "file_extension": ".py",
   "mimetype": "text/x-python",
   "name": "python",
   "nbconvert_exporter": "python",
   "pygments_lexer": "ipython3",
   "version": "3.10.8"
  }
 },
 "nbformat": 4,
 "nbformat_minor": 5
}
